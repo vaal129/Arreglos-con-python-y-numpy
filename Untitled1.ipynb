{
  "nbformat": 4,
  "nbformat_minor": 0,
  "metadata": {
    "colab": {
      "provenance": [],
      "authorship_tag": "ABX9TyOMTh48lb4vYhlbog3M3trV",
      "include_colab_link": true
    },
    "kernelspec": {
      "name": "python3",
      "display_name": "Python 3"
    },
    "language_info": {
      "name": "python"
    }
  },
  "cells": [
    {
      "cell_type": "markdown",
      "metadata": {
        "id": "view-in-github",
        "colab_type": "text"
      },
      "source": [
        "<a href=\"https://colab.research.google.com/github/vaal129/Arreglos-con-python-y-numpy/blob/main/Untitled1.ipynb\" target=\"_parent\"><img src=\"https://colab.research.google.com/assets/colab-badge.svg\" alt=\"Open In Colab\"/></a>"
      ]
    },
    {
      "cell_type": "code",
      "execution_count": 1,
      "metadata": {
        "colab": {
          "base_uri": "https://localhost:8080/"
        },
        "id": "6gb8I52ODPkQ",
        "outputId": "3a65aa3c-9f3b-471f-cc08-0566d76270d2"
      },
      "outputs": [
        {
          "output_type": "stream",
          "name": "stdout",
          "text": [
            "Vector original: [ 1  2  3  4  5  6  7  8  9 10]\n"
          ]
        }
      ],
      "source": [
        "import numpy as np\n",
        "#aleas para recordar el nombre de la libreria para eso es un alias\n",
        "#numpy es una libreria para trabajar con arreglos, matrices y vectores\n",
        "#primer ejemplo de uso de numpy con vectores\n",
        "\n",
        "#creamos un vector de 10 elementos\n",
        "vector = np.array([1, 2, 3, 4, 5, 6, 7, 8, 9, 10])\n",
        "#imprimir el vecto\n",
        "print(\"Vector original:\", vector)"
      ]
    }
  ]
}